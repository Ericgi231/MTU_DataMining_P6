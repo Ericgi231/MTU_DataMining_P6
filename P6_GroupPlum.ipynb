{
 "metadata": {
  "language_info": {
   "codemirror_mode": {
    "name": "ipython",
    "version": 3
   },
   "file_extension": ".py",
   "mimetype": "text/x-python",
   "name": "python",
   "nbconvert_exporter": "python",
   "pygments_lexer": "ipython3",
   "version": "2.7.17"
  },
  "orig_nbformat": 2,
  "kernelspec": {
   "name": "python2",
   "display_name": "Python 2",
   "language": "python"
  }
 },
 "nbformat": 4,
 "nbformat_minor": 2,
 "cells": [
  {
   "cell_type": "code",
   "execution_count": 6,
   "metadata": {},
   "outputs": [],
   "source": [
    "import pandas as pd\n",
    "import numpy as np\n",
    "import matplotlib as mpl\n",
    "import matplotlib.pyplot as plt\n",
    "import seaborn as sb\n",
    "import math \n",
    "%matplotlib inline\n",
    "\n",
    "from mlxtend.preprocessing import TransactionEncoder \n",
    "from mlxtend.frequent_patterns import apriori\n",
    "from mlxtend.frequent_patterns import association_rules"
   ]
  },
  {
   "source": [
    "# Part A"
   ],
   "cell_type": "markdown",
   "metadata": {}
  },
  {
   "source": [
    "## Question 1\n",
    "\n",
    "Group Name: Plum \n",
    "\n",
    "Member: Eric Grant"
   ],
   "cell_type": "markdown",
   "metadata": {}
  },
  {
   "source": [
    "## Question 2"
   ],
   "cell_type": "markdown",
   "metadata": {}
  },
  {
   "source": [
    "### (a)\n",
    "\n",
    "(I1, I2, I3, I4, I5, I6 -> I7, I8)\n",
    "\n",
    "sup(I1, I2, I3, I4, I5, I6, I7, I8) = 2\n",
    "\n",
    "sup(I1, I2, I3, I4, I5, I6) = 2\n",
    "\n",
    "conf(XY) = sup(XY) / sup(X) = 2/2 = 100%"
   ],
   "cell_type": "markdown",
   "metadata": {}
  },
  {
   "source": [
    "### (b)\n",
    "\n",
    "sup(I1, I6) = 2 / 4\n",
    "\n",
    "conf(I1, I6) = 2 / 3\n",
    "\n",
    "lift(I1, I6) = 2 / (3 * 3) = 2 / 9\n",
    "\n",
    "D = 24 (ignore I9, I10, and all of T5 as they do not meet min-support)\n",
    "\n",
    "conv(I1, I6) = (1 - (3/4 / 24)) / (1 - 2/3) = 2.9"
   ],
   "cell_type": "markdown",
   "metadata": {}
  },
  {
   "source": [
    "## Question 3\n",
    "\n",
    "$C_1$\n",
    "\n",
    "| Item | Count |\n",
    "| :---: | :---: |\n",
    "| M | 3 | \n",
    "| O | 3 |\n",
    "| N | 2 |\n",
    "| K | 5 |\n",
    "| E | 4 |\n",
    "| Y | 3 |\n",
    "| D | 1 |\n",
    "| A | 1 |\n",
    "| U | 1 |\n",
    "| C | 2 |\n",
    "| I | 1 |\n",
    "\n",
    "$L_1$\n",
    "\n",
    "| Item | Count |\n",
    "| :---: | :---: |\n",
    "| M | 3 | \n",
    "| O | 3 |\n",
    "| K | 5 |\n",
    "| E | 4 |\n",
    "| Y | 3 |\n",
    "\n",
    "$C_2$\n",
    "\n",
    "| Item | Count |\n",
    "| :---: | :---: |\n",
    "| M,O | 1 | \n",
    "| M,K | 3 |\n",
    "| M,E | 2 |\n",
    "| M,Y | 2 |\n",
    "| O,K | 3 |\n",
    "| O,E | 3 |\n",
    "| O,Y | 2 |\n",
    "| K,E | 4 |\n",
    "| K,Y | 3 |\n",
    "| E,Y | 2 |\n",
    "\n",
    "$L_2$\n",
    "\n",
    "| Item | Count |\n",
    "| :---: | :---: |\n",
    "| M,K | 3 |\n",
    "| O,K | 3 |\n",
    "| O,E | 3 |\n",
    "| K,E | 4 |\n",
    "| K,Y | 3 |\n",
    "\n",
    "$C_3$\n",
    "\n",
    "| Item | Count |\n",
    "| :---: | :---: |\n",
    "| M,K,O | 1 |\n",
    "| M,K,E | 2 |\n",
    "| M,K,Y | 2 |\n",
    "| K,O,E | 3 |\n",
    "| K,O,Y | 2 |\n",
    "| K,E,Y | 2 |\n",
    "\n",
    "$L_3$\n",
    "\n",
    "| Item | Count |\n",
    "| :---: | :---: |\n",
    "| K,O,E | 3 |\n",
    "\n",
    "Frequent Item Sets\n",
    "\n",
    "| Item | Count |\n",
    "| :---: | :---: |\n",
    "| M | 3 | \n",
    "| O | 3 |\n",
    "| K | 5 |\n",
    "| E | 4 |\n",
    "| Y | 3 |\n",
    "| M,K | 3 |\n",
    "| O,K | 3 |\n",
    "| O,E | 3 |\n",
    "| K,E | 4 |\n",
    "| K,Y | 3 |\n",
    "| K,O,E | 3 |"
   ],
   "cell_type": "markdown",
   "metadata": {}
  },
  {
   "source": [
    "# Part B"
   ],
   "cell_type": "markdown",
   "metadata": {}
  },
  {
   "source": [
    "## Question 4"
   ],
   "cell_type": "markdown",
   "metadata": {}
  },
  {
   "cell_type": "code",
   "execution_count": 12,
   "metadata": {},
   "outputs": [
    {
     "output_type": "execute_result",
     "data": {
      "text/plain": [
       "    support   itemsets\n",
       "0       0.8        (E)\n",
       "1       1.0        (K)\n",
       "2       0.6        (M)\n",
       "3       0.6        (O)\n",
       "4       0.6        (Y)\n",
       "5       0.8     (E, K)\n",
       "6       0.6     (O, E)\n",
       "7       0.6     (K, M)\n",
       "8       0.6     (O, K)\n",
       "9       0.6     (K, Y)\n",
       "10      0.6  (O, E, K)"
      ],
      "text/html": "<div>\n<style scoped>\n    .dataframe tbody tr th:only-of-type {\n        vertical-align: middle;\n    }\n\n    .dataframe tbody tr th {\n        vertical-align: top;\n    }\n\n    .dataframe thead th {\n        text-align: right;\n    }\n</style>\n<table border=\"1\" class=\"dataframe\">\n  <thead>\n    <tr style=\"text-align: right;\">\n      <th></th>\n      <th>support</th>\n      <th>itemsets</th>\n    </tr>\n  </thead>\n  <tbody>\n    <tr>\n      <th>0</th>\n      <td>0.8</td>\n      <td>(E)</td>\n    </tr>\n    <tr>\n      <th>1</th>\n      <td>1.0</td>\n      <td>(K)</td>\n    </tr>\n    <tr>\n      <th>2</th>\n      <td>0.6</td>\n      <td>(M)</td>\n    </tr>\n    <tr>\n      <th>3</th>\n      <td>0.6</td>\n      <td>(O)</td>\n    </tr>\n    <tr>\n      <th>4</th>\n      <td>0.6</td>\n      <td>(Y)</td>\n    </tr>\n    <tr>\n      <th>5</th>\n      <td>0.8</td>\n      <td>(E, K)</td>\n    </tr>\n    <tr>\n      <th>6</th>\n      <td>0.6</td>\n      <td>(O, E)</td>\n    </tr>\n    <tr>\n      <th>7</th>\n      <td>0.6</td>\n      <td>(K, M)</td>\n    </tr>\n    <tr>\n      <th>8</th>\n      <td>0.6</td>\n      <td>(O, K)</td>\n    </tr>\n    <tr>\n      <th>9</th>\n      <td>0.6</td>\n      <td>(K, Y)</td>\n    </tr>\n    <tr>\n      <th>10</th>\n      <td>0.6</td>\n      <td>(O, E, K)</td>\n    </tr>\n  </tbody>\n</table>\n</div>"
     },
     "metadata": {},
     "execution_count": 12
    }
   ],
   "source": [
    "dataset = [\n",
    "    ['M','O','N','K','E','Y'],\n",
    "    ['D','O','N','K','E','Y'],\n",
    "    ['M','A','K','E'],\n",
    "    ['M','U','C','K','Y'],\n",
    "    ['C','O','O','K','I','E']]\n",
    "\n",
    "te = TransactionEncoder()\n",
    "te_ary = te.fit(dataset).transform(dataset)\n",
    "df = pd.DataFrame(te_ary, columns=te.columns_)\n",
    "fi = apriori(df, min_support=3/5, use_colnames=True)\n",
    "fi"
   ]
  }
 ]
}